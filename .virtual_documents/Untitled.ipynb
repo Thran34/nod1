pip install pandas


%matplotlib inline





