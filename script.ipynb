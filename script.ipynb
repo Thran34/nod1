{
 "cells": [
  {
   "cell_type": "code",
   "execution_count": null,
   "id": "3c464030",
   "metadata": {},
   "outputs": [],
   "source": [
    "import pandas as pd\n",
    "import matplotlib.pyplot as plt\n",
    "%matplotlib inline"
   ]
  },
  {
   "cell_type": "code",
   "execution_count": null,
   "id": "96ed8453",
   "metadata": {},
   "outputs": [],
   "source": [
    "data_dict = {\n",
    "    \"Imię\": [\"Anna\", \"Piotr\", \"Kasia\"],\n",
    "    \"Wiek\": [25, 30, 22],\n",
    "    \"Miasto\": [\"Warszawa\", \"Kraków\", \"Gdańsk\"]\n",
    "}"
   ]
  },
  {
   "cell_type": "code",
   "execution_count": null,
   "id": "5a7bdadb",
   "metadata": {},
   "outputs": [],
   "source": [
    "df_dict = pd.DataFrame(data_dict)\n",
    "df_dict"
   ]
  },
  {
   "cell_type": "code",
   "execution_count": null,
   "id": "88db9bca",
   "metadata": {},
   "outputs": [],
   "source": [
    "df_csv = pd.read_csv(\"data.csv\")\n",
    "df_csv"
   ]
  },
  {
   "cell_type": "code",
   "execution_count": null,
   "id": "353358ea",
   "metadata": {},
   "outputs": [],
   "source": [
    "data_list = [\n",
    "    [\"Anna\", 25, \"Warszawa\"],\n",
    "    [\"Piotr\", 30, \"Kraków\"],\n",
    "    [\"Kasia\", 22, \"Gdańsk\"]\n",
    "]"
   ]
  },
  {
   "cell_type": "code",
   "execution_count": null,
   "id": "022408cd",
   "metadata": {},
   "outputs": [],
   "source": [
    "df_list = pd.DataFrame(data_list, columns=[\"Imię\", \"Wiek\", \"Miasto\"])\n",
    "print(df_list)"
   ]
  },
  {
   "cell_type": "code",
   "execution_count": null,
   "id": "6de40a88",
   "metadata": {},
   "outputs": [],
   "source": [
    "df_transposed = df_list.T\n",
    "print(df_transposed.head(10))"
   ]
  },
  {
   "cell_type": "code",
   "execution_count": null,
   "id": "34fb03e1",
   "metadata": {},
   "outputs": [],
   "source": [
    "print(\"Pierwsze 10 wierszy:\")\n",
    "print(df_csv.head(10))"
   ]
  },
  {
   "cell_type": "code",
   "execution_count": null,
   "id": "fbee27ac",
   "metadata": {},
   "outputs": [],
   "source": [
    "print(\"\\nOstatnie 10 wierszy:\")\n",
    "print(df_csv.tail(10))"
   ]
  },
  {
   "cell_type": "code",
   "execution_count": null,
   "id": "6299b1c2",
   "metadata": {},
   "outputs": [],
   "source": [
    "print(\"\\nInformacje o ramce danych:\")\n",
    "print(df_csv.info())"
   ]
  },
  {
   "cell_type": "code",
   "execution_count": null,
   "id": "cdf455ed",
   "metadata": {},
   "outputs": [],
   "source": [
    "print(\"\\nLiczba wierszy i kolumn:\")\n",
    "print(df_csv.shape)"
   ]
  },
  {
   "cell_type": "code",
   "execution_count": null,
   "id": "b5118a87",
   "metadata": {},
   "outputs": [],
   "source": [
    "print(\"\\nStatystyki kolumn liczbowych:\")\n",
    "print(df_csv.describe())"
   ]
  },
  {
   "cell_type": "code",
   "execution_count": null,
   "id": "18b010ac",
   "metadata": {},
   "outputs": [],
   "source": [
    "print(\"\\nStatystyki kolumn kategorycznych:\")\n",
    "print(df_csv.describe(include=['object']))"
   ]
  },
  {
   "cell_type": "code",
   "execution_count": null,
   "id": "226dd70f",
   "metadata": {},
   "outputs": [],
   "source": [
    "print(\"\\nUsunięcie brakujących wartości:\")\n",
    "df_no_na = df_csv.dropna()\n",
    "print(df_no_na)"
   ]
  },
  {
   "cell_type": "code",
   "execution_count": null,
   "id": "305a205f",
   "metadata": {},
   "outputs": [],
   "source": [
    "print(\"\\nWybór pojedynczej kolumny po nazwie:\")\n",
    "print(df_csv[\"location_name\"])"
   ]
  },
  {
   "cell_type": "code",
   "execution_count": null,
   "id": "3a569337",
   "metadata": {},
   "outputs": [],
   "source": [
    "print(\"\\nWybór wielu kolumn po nazwach:\")\n",
    "print(df_csv[[\"sex_id\", \"measure_name\"]])"
   ]
  },
  {
   "cell_type": "code",
   "execution_count": null,
   "id": "396f093b",
   "metadata": {},
   "outputs": [],
   "source": [
    "print(\"\\nWybór pojedynczego wiersza po indeksie (iloc):\")\n",
    "print(df_csv.iloc[0])"
   ]
  },
  {
   "cell_type": "code",
   "execution_count": null,
   "id": "ff80b9f4",
   "metadata": {},
   "outputs": [],
   "source": [
    "print(\"\\nWybór wielu wierszy po indeksach (iloc):\")\n",
    "print(df_csv.iloc[0:2])"
   ]
  },
  {
   "cell_type": "code",
   "execution_count": null,
   "id": "81f07a5a",
   "metadata": {},
   "outputs": [],
   "source": [
    "print(\"\\nWybór konkretnego wiersza i kolumny (iloc):\")\n",
    "print(df_csv.iloc[0, 1])"
   ]
  },
  {
   "cell_type": "code",
   "execution_count": null,
   "id": "4e40a7c5",
   "metadata": {},
   "outputs": [],
   "source": [
    "print(\"\\nWybór konkretnego wiersza i kolumny (loc) po nazwach:\")\n",
    "print(df_csv.loc[0, \"location_name\"])"
   ]
  },
  {
   "cell_type": "code",
   "execution_count": null,
   "id": "7519759d",
   "metadata": {
    "lines_to_next_cell": 2
   },
   "outputs": [],
   "source": [
    "print(\"\\nWiersze, gdzie sex_id = 1:\")\n",
    "print(df_csv[df_csv[\"sex_id\"] == 1])"
   ]
  },
  {
   "cell_type": "code",
   "execution_count": null,
   "id": "af893b03",
   "metadata": {},
   "outputs": [],
   "source": [
    "print(\"\\nWiersze, gdzie location_name zawiera 'China' i sex_name == 'Male':\")\n",
    "print(df_csv[df_csv[\"location_name\"].str.contains(\"China\") & (df_csv[\"sex_name\"] == \"Male\")])"
   ]
  },
  {
   "cell_type": "code",
   "execution_count": null,
   "id": "f3ede1d5",
   "metadata": {},
   "outputs": [],
   "source": [
    "print(\"\\nWiersze, gdzie location_name zawiera 'China':\")\n",
    "print(df_csv[df_csv[\"location_name\"].str.contains(\"China\")])"
   ]
  },
  {
   "cell_type": "code",
   "execution_count": null,
   "id": "12d3de3c",
   "metadata": {},
   "outputs": [],
   "source": [
    "print(\"\\nWiersze, gdzie location_name nie zawiera 'China':\")\n",
    "print(df_csv[~df_csv[\"location_name\"].str.contains(\"China\")])"
   ]
  },
  {
   "cell_type": "code",
   "execution_count": null,
   "id": "c27e7ab3",
   "metadata": {},
   "outputs": [],
   "source": [
    "df_csv[\"sex_id_plus_1\"] = df_csv[\"sex_id\"] + 1\n",
    "print(df_csv.head())"
   ]
  },
  {
   "cell_type": "code",
   "execution_count": null,
   "id": "56cdb411",
   "metadata": {},
   "outputs": [],
   "source": [
    "df_csv = df_csv.drop(columns=[\"sex_id_plus_1\"])\n",
    "print(df_csv.head())"
   ]
  },
  {
   "cell_type": "code",
   "execution_count": null,
   "id": "6f8d8312",
   "metadata": {},
   "outputs": [],
   "source": [
    "df_csv = df_csv.rename(columns={\"sex_name\": \"Płeć\"})\n",
    "print(df_csv.columns.tolist())"
   ]
  },
  {
   "cell_type": "code",
   "execution_count": null,
   "id": "c05964d4",
   "metadata": {},
   "outputs": [],
   "source": [
    "df_csv.to_csv(\"data_updated.csv\", index=False)\n",
    "print(\"Ramka danych zapisana jako data_updated.csv\")"
   ]
  },
  {
   "cell_type": "code",
   "execution_count": null,
   "id": "471d906b",
   "metadata": {},
   "outputs": [],
   "source": [
    "print(\"\\nŚrednia, maksimum i minimum kolumny sex_id:\")\n",
    "print(\"Średnia:\", df_csv[\"sex_id\"].mean())\n",
    "print(\"Maksimum:\", df_csv[\"sex_id\"].max())\n",
    "print(\"Minimum:\", df_csv[\"sex_id\"].min())"
   ]
  },
  {
   "cell_type": "code",
   "execution_count": null,
   "id": "238f2889",
   "metadata": {},
   "outputs": [],
   "source": [
    "print(\"\\nLiczba wierszy w df_csv:\")\n",
    "print(len(df_csv))"
   ]
  },
  {
   "cell_type": "code",
   "execution_count": null,
   "id": "ac4ab9b8",
   "metadata": {},
   "outputs": [],
   "source": [
    "print(\"\\nWartości unikatowe w kolumnie location_name:\")\n",
    "print(df_csv[\"location_name\"].unique())"
   ]
  },
  {
   "cell_type": "code",
   "execution_count": null,
   "id": "dca62799",
   "metadata": {},
   "outputs": [],
   "source": [
    "print(\"\\nLiczba wierszy, gdzie Płeć == 'Male':\")\n",
    "print((df_csv[\"Płeć\"] == \"Male\").sum())"
   ]
  },
  {
   "cell_type": "code",
   "execution_count": null,
   "id": "5dec705e",
   "metadata": {},
   "outputs": [],
   "source": [
    "print(\"\\nSortowanie rosnąco według sex_id:\")\n",
    "print(df_csv.sort_values(by=\"sex_id\", ascending=True))"
   ]
  },
  {
   "cell_type": "code",
   "execution_count": null,
   "id": "62b36119",
   "metadata": {},
   "outputs": [],
   "source": [
    "print(\"\\nSortowanie malejąco według sex_id:\")\n",
    "print(df_csv.sort_values(by=\"sex_id\", ascending=False))"
   ]
  },
  {
   "cell_type": "code",
   "execution_count": null,
   "id": "2b08ea46",
   "metadata": {},
   "outputs": [],
   "source": [
    "print(\"\\n10 największych wartości sex_id:\")\n",
    "print(df_csv.nlargest(10, \"sex_id\"))"
   ]
  },
  {
   "cell_type": "code",
   "execution_count": null,
   "id": "6d735a00",
   "metadata": {},
   "outputs": [],
   "source": [
    "print(\"\\n10 najmniejszych wartości sex_id:\")\n",
    "print(df_csv.nsmallest(10, \"sex_id\"))"
   ]
  },
  {
   "cell_type": "code",
   "execution_count": null,
   "id": "761f4234",
   "metadata": {},
   "outputs": [],
   "source": [
    "print(\"\\n10 największych wartości sex_id dla location_name zawierającego 'China':\")\n",
    "print(df_csv[df_csv[\"location_name\"].str.contains(\"China\")].nlargest(10, \"sex_id\"))"
   ]
  },
  {
   "cell_type": "code",
   "execution_count": null,
   "id": "fb16cec0",
   "metadata": {},
   "outputs": [],
   "source": [
    "print(\"\\nŚrednie wartości kolumn liczbowych grupowane według location_name:\")\n",
    "numeric_cols = df_csv.select_dtypes(include='number').columns\n",
    "grouped_mean = df_csv.groupby(\"location_name\")[numeric_cols].mean()\n",
    "print(grouped_mean)"
   ]
  },
  {
   "cell_type": "code",
   "execution_count": null,
   "id": "c6a8884c",
   "metadata": {},
   "outputs": [],
   "source": [
    "print(\"\\nGrupowanie z różnymi agregacjami:\")\n",
    "agg_dict = {\n",
    "    \"sex_id\": [\"mean\", \"median\", \"count\"],\n",
    "    \"Płeć\": [\"count\"]\n",
    "}\n",
    "grouped_custom = df_csv.groupby(\"location_name\").agg(agg_dict)\n",
    "print(grouped_custom)"
   ]
  },
  {
   "cell_type": "code",
   "execution_count": null,
   "id": "d848601e",
   "metadata": {},
   "outputs": [],
   "source": [
    "print(\"\\nNazwy kolumn indeksu złożonego:\")\n",
    "print(grouped_custom.columns)"
   ]
  },
  {
   "cell_type": "code",
   "execution_count": null,
   "id": "909b93ec",
   "metadata": {},
   "outputs": [],
   "source": [
    "print(\"\\nSortowanie według kolumny ('sex_id', 'mean'):\")\n",
    "sorted_grouped = grouped_custom.sort_values(by=(\"sex_id\", \"mean\"), ascending=False)\n",
    "print(sorted_grouped)"
   ]
  },
  {
   "cell_type": "code",
   "execution_count": null,
   "id": "7ef89c15",
   "metadata": {},
   "outputs": [],
   "source": [
    "print(\"\\nTabela przestawna (pivot table):\")\n",
    "pivot_df = df_csv.pivot_table(\n",
    "    index=\"location_name\",\n",
    "    columns=\"Płeć\",\n",
    "    values=\"sex_id\",\n",
    "    aggfunc=\"mean\"\n",
    ")\n",
    "print(pivot_df)"
   ]
  },
  {
   "cell_type": "code",
   "execution_count": null,
   "id": "da727378",
   "metadata": {},
   "outputs": [],
   "source": [
    "print(\"\\nIndeksy tabeli przestawnej:\")\n",
    "print(pivot_df.index)"
   ]
  },
  {
   "cell_type": "code",
   "execution_count": null,
   "id": "42273e82",
   "metadata": {},
   "outputs": [],
   "source": [
    "print(\"\\nKolumny tabeli przestawnej:\")\n",
    "print(pivot_df.columns)"
   ]
  },
  {
   "cell_type": "code",
   "execution_count": null,
   "id": "dbf7fd9f",
   "metadata": {},
   "outputs": [],
   "source": [
    "print(\"\\nTabela przestawna z indeksami złożonymi:\")\n",
    "pivot_df_multi = df_csv.pivot_table(\n",
    "    index=[\"location_name\", \"Płeć\"],\n",
    "    values=\"sex_id\",\n",
    "    aggfunc=\"mean\"\n",
    ")\n",
    "print(pivot_df_multi)\n",
    "print(\"\\nIndeksy złożone:\")\n",
    "print(pivot_df_multi.index)"
   ]
  },
  {
   "cell_type": "code",
   "execution_count": null,
   "id": "d53cc72a",
   "metadata": {},
   "outputs": [],
   "source": [
    "pivot_df_multi.plot(kind=\"bar\", figsize=(12,6))\n",
    "plt.title(\"Średnie wartości sex_id dla każdej lokalizacji i płci\")\n",
    "plt.ylabel(\"Średnie sex_id\")\n",
    "plt.xlabel(\"location_name i Płeć\")\n",
    "plt.xticks(rotation=45)\n",
    "plt.show()"
   ]
  },
  {
   "cell_type": "code",
   "execution_count": null,
   "id": "e0dc4c9c",
   "metadata": {},
   "outputs": [],
   "source": [
    "print(\"\\nHistogram kolumny sex_id:\")\n",
    "df_csv[\"sex_id\"].hist(bins=5, figsize=(8,5))\n",
    "plt.title(\"Histogram kolumny sex_id\")\n",
    "plt.xlabel(\"sex_id\")\n",
    "plt.ylabel(\"Liczba wierszy\")\n",
    "plt.show()"
   ]
  },
  {
   "cell_type": "code",
   "execution_count": null,
   "id": "5f50ee65",
   "metadata": {},
   "outputs": [],
   "source": [
    "df2 = pd.DataFrame({\n",
    "    \"location_id\": [1, 4, 6],\n",
    "    \"new_column\": [\"A\", \"B\", \"C\"]\n",
    "})"
   ]
  },
  {
   "cell_type": "code",
   "execution_count": null,
   "id": "4ff94cc7",
   "metadata": {},
   "outputs": [],
   "source": [
    "merged_df = pd.merge(df_csv, df2, on=\"location_id\", how=\"left\")\n",
    "print(\"\\nPołączenie metodą merge:\")\n",
    "print(merged_df.head())"
   ]
  },
  {
   "cell_type": "code",
   "execution_count": null,
   "id": "0dd7b9a0",
   "metadata": {},
   "outputs": [],
   "source": [
    "concat_df = pd.concat([df_csv, df_csv], ignore_index=True)\n",
    "print(\"\\nPołączenie metodą concat:\")\n",
    "print(concat_df.head())"
   ]
  },
  {
   "cell_type": "code",
   "execution_count": null,
   "id": "a85b8516",
   "metadata": {},
   "outputs": [],
   "source": [
    "df_csv[\"sex_id_times_2\"] = df_csv[\"sex_id\"] * 2\n",
    "df_csv[\"sex_id_plus_10\"] = df_csv[\"sex_id\"] + 10"
   ]
  },
  {
   "cell_type": "code",
   "execution_count": null,
   "id": "49a1ec05",
   "metadata": {},
   "outputs": [],
   "source": [
    "print(\"\\nNowe kolumny dodane przez operacje matematyczne:\")\n",
    "print(df_csv[[\"sex_id\", \"sex_id_times_2\", \"sex_id_plus_10\"]].head())"
   ]
  },
  {
   "cell_type": "code",
   "execution_count": null,
   "id": "ce26ea7d",
   "metadata": {},
   "outputs": [],
   "source": [
    "df_csv[\"sex_id_squared\"] = df_csv[\"sex_id\"].apply(lambda x: x**2)\n",
    "df_csv[\"sex_id_category\"] = df_csv[\"sex_id\"].apply(lambda x: \"Low\" if x < 2 else \"High\")"
   ]
  },
  {
   "cell_type": "code",
   "execution_count": null,
   "id": "0151afae",
   "metadata": {},
   "outputs": [],
   "source": [
    "print(\"\\nNowe kolumny dodane przy użyciu funkcji lambda:\")\n",
    "print(df_csv[[\"sex_id\", \"sex_id_squared\", \"sex_id_category\"]].head())"
   ]
  },
  {
   "cell_type": "code",
   "execution_count": null,
   "id": "7b1b70bb",
   "metadata": {},
   "outputs": [],
   "source": [
    "print(\"\\nPrzetwarzanie dużego pliku w kawałkach (chunksize):\")\n",
    "chunk_size = 5 \n",
    "for chunk in pd.read_csv(\"data.csv\", chunksize=chunk_size):\n",
    "    print(\"\\nNowy chunk:\")\n",
    "    print(chunk)"
   ]
  }
 ],
 "metadata": {
  "jupytext": {
   "cell_metadata_filter": "-all",
   "main_language": "python",
   "notebook_metadata_filter": "-all"
  },
  "language_info": {
   "name": "python"
  }
 },
 "nbformat": 4,
 "nbformat_minor": 5
}
